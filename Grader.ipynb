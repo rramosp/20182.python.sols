{
 "cells": [
  {
   "cell_type": "markdown",
   "metadata": {},
   "source": [
    "# PS_1\n",
    "\n"
   ]
  },
  {
   "cell_type": "code",
   "execution_count": 25,
   "metadata": {},
   "outputs": [],
   "source": [
    "GRADER = \"grader_PS1_SYNTAX_1\""
   ]
  },
  {
   "cell_type": "code",
   "execution_count": 26,
   "metadata": {},
   "outputs": [
    {
     "name": "stdout",
     "output_type": "stream",
     "text": [
      "Writing ./utils/graders/grader_PS1_SYNTAX_1.sh\n"
     ]
    }
   ],
   "source": [
    "%%writefile ./utils/graders/{GRADER}.sh\n",
    "#!/opt/miniconda/bin/python\n",
    "import sys\n",
    "\n",
    "sys.path.append(\"./utils/student_function/\")\n",
    "\n",
    "try:        \n",
    "    import student_PS1_SYNTAX_1 as st \n",
    "    \n",
    "    ## Calificacion de la funcion del estudiante    \n",
    "    if st.palindromo(12321)==True and st.palindromo(2134)==False:                   \n",
    "        print \"Felicitaciones##5\" \n",
    "        \n",
    "    else:\n",
    "        \n",
    "        print \"Vuelve a intentarlo##2\"\n",
    "except:\n",
    "    \n",
    "    error = sys.exc_info()    \n",
    "    for i in error:        \n",
    "        print i"
   ]
  },
  {
   "cell_type": "code",
   "execution_count": 27,
   "metadata": {},
   "outputs": [],
   "source": [
    "!chmod 774 ./utils/graders/{GRADER}.sh"
   ]
  },
  {
   "cell_type": "code",
   "execution_count": 28,
   "metadata": {},
   "outputs": [
    {
     "name": "stdout",
     "output_type": "stream",
     "text": [
      "grader_PS1_SYNTAX_1 Encriptado\n"
     ]
    }
   ],
   "source": [
    "###### Encriptar\n",
    "!utils/crypt ./utils/graders/{GRADER}.sh > ./utils/graders/{GRADER}.grader\n",
    "print(GRADER+\" Encriptado\")\n",
    "!rm ./utils/graders/{GRADER}.sh"
   ]
  },
  {
   "cell_type": "code",
   "execution_count": 29,
   "metadata": {},
   "outputs": [],
   "source": [
    "GRADER = \"grader_PS1_SYNTAX_2\"\n"
   ]
  },
  {
   "cell_type": "code",
   "execution_count": 30,
   "metadata": {},
   "outputs": [
    {
     "name": "stdout",
     "output_type": "stream",
     "text": [
      "Writing ./utils/graders/grader_PS1_SYNTAX_2.sh\n"
     ]
    }
   ],
   "source": [
    "%%writefile ./utils/graders/{GRADER}.sh\n",
    "#!/opt/miniconda/bin/python\n",
    "import sys\n",
    "\n",
    "sys.path.append(\"./utils/student_function/\")\n",
    "\n",
    "try:        \n",
    "    import student_PS1_SYNTAX_2 as st     \n",
    "    \n",
    "    ## Calificacion de la funcion del estudiante    \n",
    "    if st.cambio(55)==[5,0,2] and st.cambio(33)==[8,0,1] and st.cambio(100)==None:  \n",
    "        \n",
    "        print \"Felicitaciones##5\"          \n",
    "    else:               \n",
    "        \n",
    "        print \"Vuelve a intentarlo##2\"\n",
    "        \n",
    "except:    \n",
    "    \n",
    "    error = sys.exc_info()    \n",
    "    for i in error:        \n",
    "        print i"
   ]
  },
  {
   "cell_type": "code",
   "execution_count": 31,
   "metadata": {},
   "outputs": [],
   "source": [
    "!chmod 774 ./utils/graders/{GRADER}.sh"
   ]
  },
  {
   "cell_type": "code",
   "execution_count": 32,
   "metadata": {},
   "outputs": [
    {
     "name": "stdout",
     "output_type": "stream",
     "text": [
      "grader_PS1_SYNTAX_2 Encriptado\n"
     ]
    }
   ],
   "source": [
    "###### Encriptar\n",
    "!utils/crypt ./utils/graders/{GRADER}.sh > ./utils/graders/{GRADER}.grader\n",
    "print(GRADER+\" Encriptado\")\n",
    "!rm ./utils/graders/{GRADER}.sh"
   ]
  },
  {
   "cell_type": "code",
   "execution_count": 33,
   "metadata": {},
   "outputs": [],
   "source": [
    "GRADER = \"grader_PS1_SYNTAX_3\""
   ]
  },
  {
   "cell_type": "code",
   "execution_count": 34,
   "metadata": {},
   "outputs": [
    {
     "name": "stdout",
     "output_type": "stream",
     "text": [
      "Writing ./utils/graders/grader_PS1_SYNTAX_3.sh\n"
     ]
    }
   ],
   "source": [
    "%%writefile ./utils/graders/{GRADER}.sh\n",
    "#!/opt/miniconda/bin/python\n",
    "import sys\n",
    "\n",
    "sys.path.append(\"./utils/student_function/\")\n",
    "\n",
    "try:        \n",
    "    import student_PS1_SYNTAX_3 as st     \n",
    "    \n",
    "    ## Calificacion de la funcion del estudiante    \n",
    "    if st.cadena('abecedario')==[True, 6, 4, 'oiradeceba']:  \n",
    "        \n",
    "        print \"Felicitaciones##5\"          \n",
    "    else:               \n",
    "        \n",
    "        print \"Vuelve a intentarlo##2\"\n",
    "        \n",
    "except:    \n",
    "    \n",
    "    error = sys.exc_info()    \n",
    "    for i in error:        \n",
    "        print i"
   ]
  },
  {
   "cell_type": "code",
   "execution_count": 35,
   "metadata": {},
   "outputs": [],
   "source": [
    "!chmod 774 ./utils/graders/{GRADER}.sh"
   ]
  },
  {
   "cell_type": "code",
   "execution_count": 36,
   "metadata": {},
   "outputs": [
    {
     "name": "stdout",
     "output_type": "stream",
     "text": [
      "grader_PS1_SYNTAX_3 Encriptado\n"
     ]
    }
   ],
   "source": [
    "###### Encriptar\n",
    "!utils/crypt ./utils/graders/{GRADER}.sh > ./utils/graders/{GRADER}.grader\n",
    "print(GRADER+\" Encriptado\")\n",
    "!rm ./utils/graders/{GRADER}.sh"
   ]
  },
  {
   "cell_type": "code",
   "execution_count": 37,
   "metadata": {},
   "outputs": [],
   "source": [
    "GRADER = \"grader_PS1_SYNTAX_4\""
   ]
  },
  {
   "cell_type": "code",
   "execution_count": 38,
   "metadata": {},
   "outputs": [
    {
     "name": "stdout",
     "output_type": "stream",
     "text": [
      "Writing ./utils/graders/grader_PS1_SYNTAX_4.sh\n"
     ]
    }
   ],
   "source": [
    "%%writefile ./utils/graders/{GRADER}.sh\n",
    "#!/opt/miniconda/bin/python\n",
    "import sys\n",
    "\n",
    "sys.path.append(\"./utils/student_function/\")\n",
    "\n",
    "try:        \n",
    "    import student_PS1_SYNTAX_4 as st     \n",
    "    \n",
    "    ## Calificacion de la funcion del estudiante    \n",
    "    if st.fibonacci(72)==498454011879264 and st.fibonacci(58)==591286729879:  \n",
    "        \n",
    "        print \"Felicitaciones##5\"          \n",
    "    else:               \n",
    "        \n",
    "        print \"Vuelve a intentarlo##2\"\n",
    "        \n",
    "except:    \n",
    "    \n",
    "    error = sys.exc_info()    \n",
    "    for i in error:        \n",
    "        print i"
   ]
  },
  {
   "cell_type": "code",
   "execution_count": 39,
   "metadata": {},
   "outputs": [],
   "source": [
    "!chmod 774 ./utils/graders/{GRADER}.sh"
   ]
  },
  {
   "cell_type": "code",
   "execution_count": 40,
   "metadata": {},
   "outputs": [
    {
     "name": "stdout",
     "output_type": "stream",
     "text": [
      "grader_PS1_SYNTAX_4 Encriptado\n"
     ]
    }
   ],
   "source": [
    "###### Encriptar\n",
    "!utils/crypt ./utils/graders/{GRADER}.sh > ./utils/graders/{GRADER}.grader\n",
    "print(GRADER+\" Encriptado\")\n",
    "!rm ./utils/graders/{GRADER}.sh"
   ]
  },
  {
   "cell_type": "code",
   "execution_count": 41,
   "metadata": {},
   "outputs": [],
   "source": [
    "GRADER = \"grader_PS1_SYNTAX_5\""
   ]
  },
  {
   "cell_type": "code",
   "execution_count": 42,
   "metadata": {},
   "outputs": [
    {
     "name": "stdout",
     "output_type": "stream",
     "text": [
      "Writing ./utils/graders/grader_PS1_SYNTAX_5.sh\n"
     ]
    }
   ],
   "source": [
    "%%writefile ./utils/graders/{GRADER}.sh\n",
    "#!/opt/miniconda/bin/python\n",
    "import sys\n",
    "\n",
    "sys.path.append(\"./utils/student_function/\")\n",
    "\n",
    "try:        \n",
    "    import student_PS1_SYNTAX_5 as st     \n",
    "    \n",
    "    ## Calificacion de la funcion del estudiante    \n",
    "    if st.perfecto(6)==True and st.perfecto(496)==True and st.perfecto(25)==False:\n",
    "        \n",
    "        print \"Felicitaciones##5\"          \n",
    "    else:               \n",
    "        \n",
    "        print \"Vuelve a intentarlo##2\"\n",
    "        \n",
    "except:    \n",
    "    \n",
    "    error = sys.exc_info()    \n",
    "    for i in error:        \n",
    "        print i"
   ]
  },
  {
   "cell_type": "code",
   "execution_count": 43,
   "metadata": {},
   "outputs": [],
   "source": [
    "!chmod 774 ./utils/graders/{GRADER}.sh"
   ]
  },
  {
   "cell_type": "code",
   "execution_count": 44,
   "metadata": {},
   "outputs": [
    {
     "name": "stdout",
     "output_type": "stream",
     "text": [
      "grader_PS1_SYNTAX_5 Encriptado\n"
     ]
    }
   ],
   "source": [
    "###### Encriptar\n",
    "!utils/crypt ./utils/graders/{GRADER}.sh > ./utils/graders/{GRADER}.grader\n",
    "print(GRADER+\" Encriptado\")\n",
    "!rm ./utils/graders/{GRADER}.sh"
   ]
  },
  {
   "cell_type": "markdown",
   "metadata": {},
   "source": [
    "# PS_2"
   ]
  },
  {
   "cell_type": "code",
   "execution_count": 45,
   "metadata": {},
   "outputs": [],
   "source": [
    "GRADER = \"grader_PS2_NUMPY_1\""
   ]
  },
  {
   "cell_type": "code",
   "execution_count": 46,
   "metadata": {},
   "outputs": [
    {
     "name": "stdout",
     "output_type": "stream",
     "text": [
      "Writing ./utils/graders/grader_PS2_NUMPY_1.sh\n"
     ]
    }
   ],
   "source": [
    "%%writefile ./utils/graders/{GRADER}.sh\n",
    "#!/opt/miniconda/bin/python\n",
    "import sys\n",
    "import numpy as np\n",
    "\n",
    "\n",
    "sys.path.append(\"./utils/student_function/\")\n",
    "\n",
    "try:        \n",
    "    import student_PS2_NUMPY_1 as st     \n",
    "    \n",
    "    ## Calificacion de la funcion del estudiante\n",
    "    X = np.arange(8)\n",
    "    Y = X + 0.5\n",
    "    if np.allclose(st.cauchy(X,Y),3638.16363712):\n",
    "        \n",
    "        print \"Felicitaciones##5\"          \n",
    "    else:               \n",
    "        \n",
    "        print \"Vuelve a intentarlo##2\"\n",
    "        \n",
    "except:    \n",
    "    \n",
    "    error = sys.exc_info()    \n",
    "    for i in error:        \n",
    "        print i"
   ]
  },
  {
   "cell_type": "code",
   "execution_count": 47,
   "metadata": {},
   "outputs": [],
   "source": [
    "!chmod 774 ./utils/graders/{GRADER}.sh"
   ]
  },
  {
   "cell_type": "code",
   "execution_count": 48,
   "metadata": {},
   "outputs": [
    {
     "name": "stdout",
     "output_type": "stream",
     "text": [
      "grader_PS2_NUMPY_1 Encriptado\n"
     ]
    }
   ],
   "source": [
    "###### Encriptar\n",
    "!utils/crypt ./utils/graders/{GRADER}.sh > ./utils/graders/{GRADER}.grader\n",
    "print(GRADER+\" Encriptado\")\n",
    "!rm ./utils/graders/{GRADER}.sh"
   ]
  },
  {
   "cell_type": "code",
   "execution_count": 49,
   "metadata": {},
   "outputs": [],
   "source": [
    "GRADER = \"grader_PS2_NUMPY_2\""
   ]
  },
  {
   "cell_type": "code",
   "execution_count": 50,
   "metadata": {},
   "outputs": [
    {
     "name": "stdout",
     "output_type": "stream",
     "text": [
      "Writing ./utils/graders/grader_PS2_NUMPY_2.sh\n"
     ]
    }
   ],
   "source": [
    "%%writefile ./utils/graders/{GRADER}.sh\n",
    "#!/opt/miniconda/bin/python\n",
    "import sys\n",
    "\n",
    "\n",
    "\n",
    "sys.path.append(\"./utils/student_function/\")\n",
    "\n",
    "\n",
    "try:        \n",
    "    import student_PS2_NUMPY_2 as st     \n",
    "    import numpy as np\n",
    "    \n",
    "    X = np.arange(100)\n",
    "    v = 50\n",
    "\n",
    "    ## Calificacion de la funcion del estudiante    \n",
    "    if X[st.minimo(X,v)]==50:\n",
    "        \n",
    "        print \"Felicitaciones##5\"          \n",
    "    else:               \n",
    "        \n",
    "        print \"Vuelve a intentarlo##2\"\n",
    "        \n",
    "except:    \n",
    "    \n",
    "    error = sys.exc_info()    \n",
    "    for i in error:        \n",
    "        print i"
   ]
  },
  {
   "cell_type": "code",
   "execution_count": 51,
   "metadata": {},
   "outputs": [],
   "source": [
    "!chmod 774 ./utils/graders/{GRADER}.sh"
   ]
  },
  {
   "cell_type": "code",
   "execution_count": 52,
   "metadata": {},
   "outputs": [
    {
     "name": "stdout",
     "output_type": "stream",
     "text": [
      "grader_PS2_NUMPY_2 Encriptado\n"
     ]
    }
   ],
   "source": [
    "###### Encriptar\n",
    "!utils/crypt ./utils/graders/{GRADER}.sh > ./utils/graders/{GRADER}.grader\n",
    "print(GRADER+\" Encriptado\")\n",
    "!rm ./utils/graders/{GRADER}.sh"
   ]
  },
  {
   "cell_type": "code",
   "execution_count": 53,
   "metadata": {},
   "outputs": [],
   "source": [
    "GRADER = \"grader_PS2_NUMPY_3\""
   ]
  },
  {
   "cell_type": "code",
   "execution_count": 54,
   "metadata": {},
   "outputs": [
    {
     "name": "stdout",
     "output_type": "stream",
     "text": [
      "Writing ./utils/graders/grader_PS2_NUMPY_3.sh\n"
     ]
    }
   ],
   "source": [
    "%%writefile ./utils/graders/{GRADER}.sh\n",
    "#!/opt/miniconda/bin/python\n",
    "import sys\n",
    "import numpy as np\n",
    "\n",
    "sys.path.append(\"./utils/student_function/\")\n",
    "\n",
    "X=X = np.array(5*[5*[5]])\n",
    "m=np.zeros_like(X)\n",
    "try:        \n",
    "    import student_PS2_NUMPY_3 as st     \n",
    "    \n",
    "    ## Calificacion de la funcion del estudiante    \n",
    "    if np.array_equal(st.media(X),m):\n",
    "        \n",
    "        print \"Felicitaciones##5\"          \n",
    "    else:               \n",
    "        \n",
    "        print \"Vuelve a intentarlo##2\"\n",
    "        \n",
    "except:    \n",
    "    \n",
    "    error = sys.exc_info()    \n",
    "    for i in error:        \n",
    "        print i"
   ]
  },
  {
   "cell_type": "code",
   "execution_count": 55,
   "metadata": {},
   "outputs": [],
   "source": [
    "!chmod 774 ./utils/graders/{GRADER}.sh"
   ]
  },
  {
   "cell_type": "code",
   "execution_count": 56,
   "metadata": {},
   "outputs": [
    {
     "name": "stdout",
     "output_type": "stream",
     "text": [
      "grader_PS2_NUMPY_3 Encriptado\n"
     ]
    }
   ],
   "source": [
    "###### Encriptar\n",
    "!utils/crypt ./utils/graders/{GRADER}.sh > ./utils/graders/{GRADER}.grader\n",
    "print(GRADER+\" Encriptado\")\n",
    "!rm ./utils/graders/{GRADER}.sh"
   ]
  },
  {
   "cell_type": "code",
   "execution_count": 57,
   "metadata": {},
   "outputs": [],
   "source": [
    "GRADER = \"grader_PS2_NUMPY_4\""
   ]
  },
  {
   "cell_type": "code",
   "execution_count": 58,
   "metadata": {},
   "outputs": [
    {
     "name": "stdout",
     "output_type": "stream",
     "text": [
      "Writing ./utils/graders/grader_PS2_NUMPY_4.sh\n"
     ]
    }
   ],
   "source": [
    "%%writefile ./utils/graders/{GRADER}.sh\n",
    "#!/opt/miniconda/bin/python\n",
    "import sys\n",
    "import numpy as np\n",
    "\n",
    "A=[[ 0.74019211,  0.88074775,  0.76313766,  0.16401307,  0.79100838,  0.55012263,\n",
    "   0.52715895,  0.10473314 , 0.32350678  ,0.10636768],\n",
    " [ 0.60191586,  0.19951451 , 0.30253232  ,0.20650427 , 0.79079405 , 0.88890474,\n",
    "   0.02091529 , 0.06900835 , 0.19961579  ,0.45072254],\n",
    " [ 0.12305539 , 0.80427841 , 0.28039939  ,0.44587499 , 0.22792054 , 0.15380323,\n",
    "   0.53475777 , 0.2329996  , 0.96797348  ,0.82400304],\n",
    " [ 0.72238524 , 0.21711033 , 0.80644066  ,0.53411037 , 0.29574619 , 0.28531133,\n",
    "   0.08859403  ,0.75136371 , 0.47861943  ,0.11314524],\n",
    " [ 0.87248516 , 0.05968816 , 0.03220045  ,0.55847246 , 0.40362461 , 0.54408517,\n",
    "   0.82325408 , 0.61511986 , 0.1480684   ,0.17169693]]\n",
    "\n",
    "B=[[ 0.5550068 ,  0.08223711,  0.05259033, 0.35471869,  0.19791947],\n",
    " [ 0.55743724  ,0.82923066  ,0.95146065  ,0.30236612 , 0.40422403],\n",
    " [ 0.79473269  ,0.2517258   ,0.78367486  ,0.03618329 , 0.31310786],\n",
    " [ 0.93932005  ,0.5373381   ,0.77710968  ,0.77713596 , 0.4513889 ],\n",
    " [ 0.0490389   ,0.21339475  ,0.60761344  ,0.26668217 , 0.00566334],\n",
    " [ 0.16992835  ,0.009103    ,0.57721662  ,0.30618822 , 0.38424874],\n",
    " [ 0.64616497  ,0.49037448  ,0.86234425  ,0.05965279 , 0.31444925],\n",
    " [ 0.65539184  ,0.86174556  ,0.01188851  ,0.84005788 , 0.48375559],\n",
    " [ 0.4156407   ,0.30756694  ,0.81141294  ,0.10472866 , 0.60378635],\n",
    " [ 0.41379741  ,0.86851756  ,0.22183539  ,0.00555388 , 0.38982601]]\n",
    "\n",
    "d=np.array([ 2.38234622,  1.10148379,  2.99734642,  1.61960306,  1.38310249])\n",
    "sys.path.append(\"./utils/student_function/\")\n",
    "\n",
    "try:        \n",
    "    import student_PS2_NUMPY_4 as st     \n",
    "    \n",
    "    ## Calificacion de la funcion del estudiante    \n",
    "    if np.allclose(st.diagonal(A,B),d):\n",
    "        \n",
    "        print \"Felicitaciones##5\"          \n",
    "    else:               \n",
    "        \n",
    "        print \"Vuelve a intentarlo##2\"\n",
    "        \n",
    "except:    \n",
    "    \n",
    "    error = sys.exc_info()    \n",
    "    for i in error:        \n",
    "        print i"
   ]
  },
  {
   "cell_type": "code",
   "execution_count": 59,
   "metadata": {},
   "outputs": [],
   "source": [
    "!chmod 774 ./utils/graders/{GRADER}.sh"
   ]
  },
  {
   "cell_type": "code",
   "execution_count": 60,
   "metadata": {},
   "outputs": [
    {
     "name": "stdout",
     "output_type": "stream",
     "text": [
      "grader_PS2_NUMPY_4 Encriptado\n"
     ]
    }
   ],
   "source": [
    "###### Encriptar\n",
    "!utils/crypt ./utils/graders/{GRADER}.sh > ./utils/graders/{GRADER}.grader\n",
    "print(GRADER+\" Encriptado\")\n",
    "!rm ./utils/graders/{GRADER}.sh"
   ]
  },
  {
   "cell_type": "code",
   "execution_count": 61,
   "metadata": {},
   "outputs": [],
   "source": [
    "GRADER = \"grader_PS2_NUMPY_5\""
   ]
  },
  {
   "cell_type": "code",
   "execution_count": 62,
   "metadata": {},
   "outputs": [
    {
     "name": "stdout",
     "output_type": "stream",
     "text": [
      "Writing ./utils/graders/grader_PS2_NUMPY_5.sh\n"
     ]
    }
   ],
   "source": [
    "%%writefile ./utils/graders/{GRADER}.sh\n",
    "#!/opt/miniconda/bin/python\n",
    "import sys\n",
    "import numpy as np\n",
    "sys.path.append(\"./utils/student_function/\")\n",
    "\n",
    "X=np.array([ 0.79035627,  0.08409479,  0.57376371,  0.8449833 ,  0.63291871,  0.78611748,\n",
    "  0.65485656  ,0.6580865   ,0.80133703  ,0.6094324   ,0.62010416  ,0.98148802,\n",
    "  0.70262324  ,0.42894768  ,0.70470542  ,0.37187055  ,0.05427004  ,0.50294194,\n",
    "  0.84034571  ,0.00586813])\n",
    "c=10\n",
    "l=5\n",
    "x=np.array([0.80133703, 0.6094324, 0.62010416, 0.98148802, 0.70262324])\n",
    "try:        \n",
    "    import student_PS2_NUMPY_5 as st     \n",
    "    \n",
    "    ## Calificacion de la funcion del estudiante    \n",
    "    if np.allclose(st.subArray(X,c,l),x):\n",
    "        \n",
    "        print \"Felicitaciones##5\"          \n",
    "    else:               \n",
    "        \n",
    "        print \"Vuelve a intentarlo##2\"\n",
    "        \n",
    "except:    \n",
    "    \n",
    "    error = sys.exc_info()    \n",
    "    for i in error:        \n",
    "        print i"
   ]
  },
  {
   "cell_type": "code",
   "execution_count": 63,
   "metadata": {},
   "outputs": [],
   "source": [
    "!chmod 774 ./utils/graders/{GRADER}.sh"
   ]
  },
  {
   "cell_type": "code",
   "execution_count": 64,
   "metadata": {},
   "outputs": [
    {
     "name": "stdout",
     "output_type": "stream",
     "text": [
      "grader_PS2_NUMPY_5 Encriptado\n"
     ]
    }
   ],
   "source": [
    "###### Encriptar\n",
    "!utils/crypt ./utils/graders/{GRADER}.sh > ./utils/graders/{GRADER}.grader\n",
    "print(GRADER+\" Encriptado\")\n",
    "!rm ./utils/graders/{GRADER}.sh"
   ]
  },
  {
   "cell_type": "markdown",
   "metadata": {},
   "source": [
    "# PS_4"
   ]
  },
  {
   "cell_type": "code",
   "execution_count": 81,
   "metadata": {},
   "outputs": [],
   "source": [
    "GRADER = \"grader_PS4_PANDAS_1\""
   ]
  },
  {
   "cell_type": "code",
   "execution_count": 88,
   "metadata": {},
   "outputs": [
    {
     "name": "stdout",
     "output_type": "stream",
     "text": [
      "Writing ./utils/graders/grader_PS4_PANDAS_1.sh\n"
     ]
    }
   ],
   "source": [
    "%%writefile ./utils/graders/{GRADER}.sh\n",
    "#!/opt/miniconda/bin/python\n",
    "import sys\n",
    "\n",
    "import numpy as np\n",
    "import pandas as pd\n",
    "\n",
    "sys.path.append(\"./utils/student_function/\")\n",
    "\n",
    "X=[365, 4, 'Brebeuf', 14600, 4242]\n",
    "\n",
    "try:        \n",
    "    import student_PS4_PANDAS_1 as st    \n",
    "    df=pd.read_csv(\"data/PS4_1.csv\" , parse_dates=True) \n",
    "    \n",
    "    ## Calificacion de la funcion del estudiante    \n",
    "    if (st.ps4_1(df)==X):\n",
    "        \n",
    "        print \"Felicitaciones##5\"          \n",
    "    else:               \n",
    "        \n",
    "        print \"Vuelve a intentarlo##2\"\n",
    "        \n",
    "except:    \n",
    "    \n",
    "    error = sys.exc_info()    \n",
    "    for i in error:        \n",
    "        print i"
   ]
  },
  {
   "cell_type": "code",
   "execution_count": 89,
   "metadata": {},
   "outputs": [],
   "source": [
    "!chmod 774 ./utils/graders/{GRADER}.sh"
   ]
  },
  {
   "cell_type": "code",
   "execution_count": 90,
   "metadata": {},
   "outputs": [
    {
     "name": "stdout",
     "output_type": "stream",
     "text": [
      "grader_PS4_PANDAS_1 Encriptado\n"
     ]
    }
   ],
   "source": [
    "###### Encriptar\n",
    "!utils/crypt ./utils/graders/{GRADER}.sh > ./utils/graders/{GRADER}.grader\n",
    "print(GRADER+\" Encriptado\")\n",
    "!rm ./utils/graders/{GRADER}.sh"
   ]
  },
  {
   "cell_type": "code",
   "execution_count": 69,
   "metadata": {},
   "outputs": [],
   "source": [
    "GRADER = \"grader_PS4_PANDAS_2\""
   ]
  },
  {
   "cell_type": "code",
   "execution_count": 70,
   "metadata": {},
   "outputs": [
    {
     "name": "stdout",
     "output_type": "stream",
     "text": [
      "Writing ./utils/graders/grader_PS4_PANDAS_2.sh\n"
     ]
    }
   ],
   "source": [
    "%%writefile ./utils/graders/{GRADER}.sh\n",
    "#!/opt/miniconda/bin/python\n",
    "import sys\n",
    "import pandas as pd\n",
    "sys.path.append(\"./utils/student_function/\")\n",
    "\n",
    "X=[2032.2, 1878.8797986572208, 6626, 0, 3540.0, 1060.2520547945205, 1079.5330858971347,\n",
    " 4242, 0, 1882.0, 2093.1698630136984, 1854.3685230878291, 6587, 0, 3520.0, 2576.3595505617977,\n",
    " 2484.0047433344948, 7575.0, 0.0, 4638.0]\n",
    "\n",
    "try:        \n",
    "    import student_PS4_PANDAS_2 as st     \n",
    "    df=pd.read_csv(\"data/PS4_1.csv\" , parse_dates=True) \n",
    "    \n",
    "    ## Calificacion de la funcion del estudiante    \n",
    "    if st.ps4_2(df)==X:\n",
    "        \n",
    "        print \"Felicitaciones##5\"          \n",
    "    else:               \n",
    "        \n",
    "        print \"Vuelve a intentarlo##2\"\n",
    "        \n",
    "except:    \n",
    "    \n",
    "    error = sys.exc_info()    \n",
    "    for i in error:        \n",
    "        print i"
   ]
  },
  {
   "cell_type": "code",
   "execution_count": 71,
   "metadata": {},
   "outputs": [],
   "source": [
    "!chmod 774 ./utils/graders/{GRADER}.sh"
   ]
  },
  {
   "cell_type": "code",
   "execution_count": 72,
   "metadata": {},
   "outputs": [
    {
     "name": "stdout",
     "output_type": "stream",
     "text": [
      "grader_PS4_PANDAS_2 Encriptado\n"
     ]
    }
   ],
   "source": [
    "###### Encriptar\n",
    "!utils/crypt ./utils/graders/{GRADER}.sh > ./utils/graders/{GRADER}.grader\n",
    "print(GRADER+\" Encriptado\")\n",
    "!rm ./utils/graders/{GRADER}.sh"
   ]
  },
  {
   "cell_type": "code",
   "execution_count": 96,
   "metadata": {},
   "outputs": [],
   "source": [
    "GRADER = \"grader_PS4_PANDAS_3\""
   ]
  },
  {
   "cell_type": "code",
   "execution_count": 100,
   "metadata": {},
   "outputs": [
    {
     "name": "stdout",
     "output_type": "stream",
     "text": [
      "Writing ./utils/graders/grader_PS4_PANDAS_3.sh\n"
     ]
    }
   ],
   "source": [
    "%%writefile ./utils/graders/{GRADER}.sh\n",
    "#!/opt/miniconda/bin/python\n",
    "import sys\n",
    "import pandas as pd\n",
    "import numpy as np\n",
    "import datetime\n",
    "\n",
    "sys.path.append(\"./utils/student_function/\")\n",
    "\n",
    "X=np.array([ 14.84732496,  12.91456014,  13.29962366,   7.19949821,\n",
    "        11.66773381,   8.05483871,  11.81935484,   9.51204668,\n",
    "         9.54320789,  10.05356631,  14.55051971,  18.02876344])\n",
    "\n",
    "def fix_century(x): \n",
    "    year = x.year - 100 if x.year > 1989 else x.year\n",
    "    return datetime.date(year, x.month, x.day)\n",
    "\n",
    "data=pd.read_csv('data/PS4_2.data', sep='\\s+', parse_dates = [[0,1,2]])\n",
    "data['Yr_Mo_Dy'] = data['Yr_Mo_Dy'].apply(fix_century)\n",
    "data[\"Yr_Mo_Dy\"] = pd.to_datetime(data[\"Yr_Mo_Dy\"])\n",
    "data = data.set_index('Yr_Mo_Dy')\n",
    "\n",
    "try:        \n",
    "    import student_PS4_PANDAS_3 as st     \n",
    "\n",
    "    \n",
    "    ## Calificacion de la funcion del estudiante    \n",
    "    if np.allclose(st.ps4_3(data),X):\n",
    "        \n",
    "        print \"Felicitaciones##5\"          \n",
    "    else:               \n",
    "        \n",
    "        print \"Vuelve a intentarlo##2\"\n",
    "        \n",
    "except:    \n",
    "    \n",
    "    error = sys.exc_info()    \n",
    "    for i in error:        \n",
    "        print i"
   ]
  },
  {
   "cell_type": "code",
   "execution_count": 101,
   "metadata": {},
   "outputs": [],
   "source": [
    "!chmod 774 ./utils/graders/{GRADER}.sh"
   ]
  },
  {
   "cell_type": "code",
   "execution_count": 102,
   "metadata": {},
   "outputs": [
    {
     "name": "stdout",
     "output_type": "stream",
     "text": [
      "grader_PS4_PANDAS_3 Encriptado\n"
     ]
    }
   ],
   "source": [
    "###### Encriptar\n",
    "!utils/crypt ./utils/graders/{GRADER}.sh > ./utils/graders/{GRADER}.grader\n",
    "print(GRADER+\" Encriptado\")\n",
    "!rm ./utils/graders/{GRADER}.sh"
   ]
  },
  {
   "cell_type": "code",
   "execution_count": 103,
   "metadata": {},
   "outputs": [],
   "source": [
    "GRADER = \"grader_PS4_PANDAS_4\""
   ]
  },
  {
   "cell_type": "code",
   "execution_count": 107,
   "metadata": {},
   "outputs": [
    {
     "name": "stdout",
     "output_type": "stream",
     "text": [
      "Writing ./utils/graders/grader_PS4_PANDAS_4.sh\n"
     ]
    }
   ],
   "source": [
    "%%writefile ./utils/graders/{GRADER}.sh\n",
    "#!/opt/miniconda/bin/python\n",
    "import sys\n",
    "import pandas as pd\n",
    "import datetime\n",
    "\n",
    "def d():\n",
    "    def fix_century(x):\n",
    "        year = x.year - 100 if x.year > 1989 else x.year\n",
    "        return datetime.date(year, x.month, x.day)\n",
    "\n",
    "    data=pd.read_csv('data/PS4_2.data', sep='\\s+', parse_dates = [[0,1,2]])\n",
    "    data['Yr_Mo_Dy'] = data['Yr_Mo_Dy'].apply(fix_century)\n",
    "    data[\"Yr_Mo_Dy\"] = pd.to_datetime(data[\"Yr_Mo_Dy\"])\n",
    "    data = data.set_index('Yr_Mo_Dy')\n",
    "\n",
    "    data.loc[:,'month']=data.index.month\n",
    "\n",
    "    sample=data.resample(\"1M\").mean()\n",
    "\n",
    "    r =pd.DataFrame(sample.rolling(20).agg(['mean','std'])[20:])\n",
    "    return r\n",
    "df=d()\n",
    "\n",
    "def fix_century(x): \n",
    "    year = x.year - 100 if x.year > 1989 else x.year\n",
    "    return datetime.date(year, x.month, x.day)\n",
    "\n",
    "data=pd.read_csv('data/PS4_2.data', sep='\\s+', parse_dates = [[0,1,2]])\n",
    "data['Yr_Mo_Dy'] = data['Yr_Mo_Dy'].apply(fix_century)\n",
    "data[\"Yr_Mo_Dy\"] = pd.to_datetime(data[\"Yr_Mo_Dy\"])\n",
    "data = data.set_index('Yr_Mo_Dy')\n",
    "\n",
    "\n",
    "sys.path.append(\"./utils/student_function/\")\n",
    "\n",
    "try:        \n",
    "    import student_PS4_PANDAS_4 as st     \n",
    "    \n",
    "    ## Calificacion de la funcion del estudiante    \n",
    "    if ((st.ps4_4(data) == df).all(1)==True).all():\n",
    "        \n",
    "        print \"Felicitaciones##5\"          \n",
    "    else:               \n",
    "        \n",
    "        print \"Vuelve a intentarlo##2\"\n",
    "        \n",
    "except:    \n",
    "    \n",
    "    error = sys.exc_info()    \n",
    "    for i in error:        \n",
    "        print i"
   ]
  },
  {
   "cell_type": "code",
   "execution_count": 108,
   "metadata": {},
   "outputs": [],
   "source": [
    "!chmod 774 ./utils/graders/{GRADER}.sh"
   ]
  },
  {
   "cell_type": "code",
   "execution_count": 109,
   "metadata": {},
   "outputs": [
    {
     "name": "stdout",
     "output_type": "stream",
     "text": [
      "grader_PS4_PANDAS_4 Encriptado\n"
     ]
    }
   ],
   "source": [
    "###### Encriptar\n",
    "!utils/crypt ./utils/graders/{GRADER}.sh > ./utils/graders/{GRADER}.grader\n",
    "print(GRADER+\" Encriptado\")\n",
    "!rm ./utils/graders/{GRADER}.sh"
   ]
  },
  {
   "cell_type": "code",
   "execution_count": null,
   "metadata": {},
   "outputs": [],
   "source": []
  }
 ],
 "metadata": {
  "kernelspec": {
   "display_name": "Python 2",
   "language": "python",
   "name": "python2"
  },
  "language_info": {
   "codemirror_mode": {
    "name": "ipython",
    "version": 2
   },
   "file_extension": ".py",
   "mimetype": "text/x-python",
   "name": "python",
   "nbconvert_exporter": "python",
   "pygments_lexer": "ipython2",
   "version": "2.7.14"
  }
 },
 "nbformat": 4,
 "nbformat_minor": 2
}
