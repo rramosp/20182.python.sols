{
 "cells": [
  {
   "cell_type": "markdown",
   "metadata": {},
   "source": [
    "# Numpy: ProblemSet"
   ]
  },
  {
   "cell_type": "markdown",
   "metadata": {},
   "source": [
    "## Problema 1\n",
    "\n",
    "Dados dos arreglos X y Y, construir la matriz de Cauchy $$C\\:\\:[ C_{ij}=\\:\\: \\frac{1}{X_i-Y_j} ]$$\n",
    "\n",
    "retornar el determinante de la matriz\n",
    "\n",
    ">- Matriz de Cauchy: https://en.wikipedia.org/wiki/Cauchy_matrix , las entradas de la matriz, son el resultado de la resta de los arreglos en la posición correspondiente, donde las Filas equivalen a X y las columnas a Y. Asegurese de que no realice divisiones por 0. (Pista, consulte la función substract.outer de numpy) \n",
    "\n",
    "### Ejemplo de Ejecución\n",
    "\n",
    "``` python\n",
    "\n",
    ">>>X = np.arange(10)\n",
    ">>>Y = X + 0.3\n",
    ">>>cauchy(X,Y)\n",
    "547032.86592945794\n",
    "\n",
    "```\n",
    "\n",
    "### Solución:"
   ]
  },
  {
   "cell_type": "code",
   "execution_count": 10,
   "metadata": {},
   "outputs": [
    {
     "name": "stdout",
     "output_type": "stream",
     "text": [
      "Overwriting utils/student_function/student_PS2_NUMPY_1.py\n"
     ]
    }
   ],
   "source": [
    "%%writefile utils/student_function/student_PS2_NUMPY_1.py\n",
    "## Ejercicio del estudiante\n",
    "\n",
    "import numpy as np \n",
    "\n",
    "def cauchy(X,Y):\n",
    "    C = 1.0 / np.subtract.outer(X, Y)\n",
    "    return np.linalg.det(C)\n",
    "    \n",
    "    \n"
   ]
  },
  {
   "cell_type": "code",
   "execution_count": 11,
   "metadata": {},
   "outputs": [
    {
     "name": "stdout",
     "output_type": "stream",
     "text": [
      "\n",
      "** Vuelve a intentarlo **\n",
      "evaluation result 2.0 \n"
     ]
    }
   ],
   "source": [
    "!./run CHECK_SOLUTION PS2_NUMPY_1"
   ]
  },
  {
   "cell_type": "markdown",
   "metadata": {},
   "source": [
    "## Problema 2\n",
    "\n",
    "Dado un arreglo X, hallar el valor más cercano a un escalar dado V, retornar su indice en el arreglo  \n",
    "\n",
    "#### Solución"
   ]
  },
  {
   "cell_type": "code",
   "execution_count": 21,
   "metadata": {},
   "outputs": [
    {
     "name": "stdout",
     "output_type": "stream",
     "text": [
      "Overwriting utils/student_function/student_PS2_NUMPY_2.py\n"
     ]
    }
   ],
   "source": [
    "%%writefile utils/student_function/student_PS2_NUMPY_2.py\n",
    "## Ejercicio del estudiante\n",
    "\n",
    "import numpy as np \n",
    "\n",
    "def minimo(X,v):\n",
    "    index = (np.abs(X-v)).argmin()\n",
    "    return index\n",
    "\n"
   ]
  },
  {
   "cell_type": "code",
   "execution_count": 22,
   "metadata": {},
   "outputs": [
    {
     "name": "stdout",
     "output_type": "stream",
     "text": [
      "\n",
      "** Felicitaciones **\n",
      "evaluation result 5.0 \n"
     ]
    }
   ],
   "source": [
    "!./run CHECK_SOLUTION PS2_NUMPY_2"
   ]
  },
  {
   "cell_type": "code",
   "execution_count": null,
   "metadata": {},
   "outputs": [],
   "source": [
    "!./run SUBMIT_SOLUTION PS2_NUMPY_2"
   ]
  },
  {
   "cell_type": "markdown",
   "metadata": {},
   "source": [
    "## Problema 3\n",
    "\n",
    "Dada una matriz, retornar otra en la que se le reste a cada componente, la media de su respectiva fila.\n",
    "\n",
    "#### Solución"
   ]
  },
  {
   "cell_type": "code",
   "execution_count": 69,
   "metadata": {},
   "outputs": [
    {
     "name": "stdout",
     "output_type": "stream",
     "text": [
      "Overwriting utils/student_function/student_PS2_NUMPY_3.py\n"
     ]
    }
   ],
   "source": [
    "%%writefile utils/student_function/student_PS2_NUMPY_3.py\n",
    "## Ejercicio del estudiante\n",
    "\n",
    "import numpy as np\n",
    "\n",
    "X = np.array(5*[5*[5]])\n",
    "def media(X):\n",
    "    Y = X - X.mean(axis=1, keepdims=True)\n",
    "    return Y\n"
   ]
  },
  {
   "cell_type": "code",
   "execution_count": 70,
   "metadata": {},
   "outputs": [
    {
     "name": "stdout",
     "output_type": "stream",
     "text": [
      "\n",
      "** Felicitaciones **\n",
      "evaluation result 5.0 \n"
     ]
    }
   ],
   "source": [
    "!./run CHECK_SOLUTION PS2_NUMPY_3"
   ]
  },
  {
   "cell_type": "code",
   "execution_count": null,
   "metadata": {},
   "outputs": [],
   "source": [
    "!./run SUBMIT_SOLUTION PS2_NUMPY_3"
   ]
  },
  {
   "cell_type": "markdown",
   "metadata": {},
   "source": [
    "## Problema 4\n",
    "\n",
    "Retorne en un arreglo, la diagonal del producto de dos matrices dadas.\n",
    "\n",
    "#### Solución"
   ]
  },
  {
   "cell_type": "code",
   "execution_count": 24,
   "metadata": {},
   "outputs": [
    {
     "name": "stdout",
     "output_type": "stream",
     "text": [
      "Overwriting utils/student_function/student_PS2_NUMPY_4.py\n"
     ]
    }
   ],
   "source": [
    "%%writefile utils/student_function/student_PS2_NUMPY_4.py\n",
    "## Ejercicio del estudiante\n",
    "\n",
    "import numpy as np \n",
    "def diagonal(A,B):\n",
    "    return np.diag(np.dot(A, B))\n",
    "\n"
   ]
  },
  {
   "cell_type": "code",
   "execution_count": 25,
   "metadata": {},
   "outputs": [
    {
     "name": "stdout",
     "output_type": "stream",
     "text": [
      "\n",
      "** Felicitaciones **\n",
      "evaluation result 5.0 \n"
     ]
    }
   ],
   "source": [
    "!./run CHECK_SOLUTION PS2_NUMPY_4"
   ]
  },
  {
   "cell_type": "code",
   "execution_count": null,
   "metadata": {},
   "outputs": [],
   "source": [
    "!./run SUBMIT_SOLUTION PS2_NUMPY_3"
   ]
  },
  {
   "cell_type": "markdown",
   "metadata": {},
   "source": [
    "## Problema 5\n",
    "\n",
    "Considere un arreglo de tamaño arbitrario, desarrolle un método para retornar un sub arreglo de tamaño dado y centrado en un valor deseado.\n",
    "\n",
    "### Ejemplo de Ejecución\n",
    "\n",
    "```python\n",
    "\n",
    ">>>X=np.array([ 0.79035627,  0.08409479,  0.57376371,  0.8449833 ,  0.63291871,  0.78611748,\n",
    "  0.65485656  ,0.6580865   ,0.80133703  ,0.6094324   ,0.62010416  ,0.98148802,\n",
    "  0.70262324  ,0.42894768  ,0.70470542  ,0.37187055  ,0.05427004  ,0.50294194,\n",
    "  0.84034571  ,0.00586813])\n",
    ">>>c=10\n",
    ">>>l=5\n",
    "\n",
    ">>>subArray(X,c,l)\n",
    "[0.80133703, 0.6094324, 0.62010416, 0.98148802, 0.70262324]\n",
    "\n",
    "```\n",
    "\n",
    "### Solución"
   ]
  },
  {
   "cell_type": "code",
   "execution_count": 99,
   "metadata": {},
   "outputs": [
    {
     "name": "stdout",
     "output_type": "stream",
     "text": [
      "Overwriting utils/student_function/student_PS2_NUMPY_5.py\n"
     ]
    }
   ],
   "source": [
    "%%writefile utils/student_function/student_PS2_NUMPY_5.py\n",
    "## Ejercicio del estudiante\n",
    "\n",
    "import numpy as np \n",
    "\n",
    "def subArray(X,c,l): #X: arreglo, c: centro, l, longitud\n",
    "    cota=l/2\n",
    "    return X[c-cota:c+cota]\n"
   ]
  },
  {
   "cell_type": "code",
   "execution_count": 101,
   "metadata": {},
   "outputs": [
    {
     "name": "stdout",
     "output_type": "stream",
     "text": [
      "\n",
      "** Felicitaciones **\n",
      "evaluation result 5.0 \n"
     ]
    }
   ],
   "source": [
    "!./run CHECK_SOLUTION PS2_NUMPY_5"
   ]
  },
  {
   "cell_type": "code",
   "execution_count": null,
   "metadata": {},
   "outputs": [],
   "source": [
    "!./run SUBMIT_SOLUTION PS2_NUMPY_5"
   ]
  }
 ],
 "metadata": {
  "kernelspec": {
   "display_name": "Python 2",
   "language": "python",
   "name": "python2"
  },
  "language_info": {
   "codemirror_mode": {
    "name": "ipython",
    "version": 2
   },
   "file_extension": ".py",
   "mimetype": "text/x-python",
   "name": "python",
   "nbconvert_exporter": "python",
   "pygments_lexer": "ipython2",
   "version": "2.7.14"
  }
 },
 "nbformat": 4,
 "nbformat_minor": 2
}
