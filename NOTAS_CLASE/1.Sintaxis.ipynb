{
 "cells": [
  {
   "cell_type": "markdown",
   "metadata": {},
   "source": [
    "# Introducción a python\n",
    "\n",
    "## Python\n",
    "\n",
    "\n",
    "Python es un lenguaje de programación creado por Guido van Rossum \n",
    "a principios de los años 90 cuyo nombre está inspirado en el grupo de \n",
    "cómicos ingleses “Monty Python”. Es un lenguaje similar a Perl, pero \n",
    "con una sintaxis muy limpia y que favorece un código legible.\n",
    "Se trata de un lenguaje interpretado o de script, con tipado dinámico, \n",
    "fuertemente tipado, multiplataforma y orientado a objetos.\n",
    "\n",
    "## Características\n",
    "\n",
    "### Tipado dinámico\n"
   ]
  },
  {
   "cell_type": "code",
   "execution_count": 1,
   "metadata": {},
   "outputs": [
    {
     "data": {
      "text/plain": [
       "5"
      ]
     },
     "execution_count": 1,
     "metadata": {},
     "output_type": "execute_result"
    }
   ],
   "source": [
    "a =5\n",
    "\n",
    "a"
   ]
  },
  {
   "cell_type": "code",
   "execution_count": 2,
   "metadata": {},
   "outputs": [
    {
     "data": {
      "text/plain": [
       "4.5"
      ]
     },
     "execution_count": 2,
     "metadata": {},
     "output_type": "execute_result"
    }
   ],
   "source": [
    "a=4.5\n",
    "a"
   ]
  },
  {
   "cell_type": "code",
   "execution_count": 3,
   "metadata": {},
   "outputs": [
    {
     "data": {
      "text/plain": [
       "'hola mundo'"
      ]
     },
     "execution_count": 3,
     "metadata": {},
     "output_type": "execute_result"
    }
   ],
   "source": [
    "a=\"hola mundo\"\n",
    "a"
   ]
  },
  {
   "cell_type": "markdown",
   "metadata": {},
   "source": [
    "### Fuertemente tipado"
   ]
  },
  {
   "cell_type": "code",
   "execution_count": 4,
   "metadata": {},
   "outputs": [
    {
     "ename": "TypeError",
     "evalue": "unsupported operand type(s) for +: 'int' and 'str'",
     "output_type": "error",
     "traceback": [
      "\u001b[0;31m\u001b[0m",
      "\u001b[0;31mTypeError\u001b[0mTraceback (most recent call last)",
      "\u001b[0;32m<ipython-input-4-fe8f810a09d8>\u001b[0m in \u001b[0;36m<module>\u001b[0;34m()\u001b[0m\n\u001b[1;32m      1\u001b[0m \u001b[0ma\u001b[0m\u001b[0;34m=\u001b[0m\u001b[0;36m5\u001b[0m\u001b[0;34m\u001b[0m\u001b[0m\n\u001b[1;32m      2\u001b[0m \u001b[0;34m\u001b[0m\u001b[0m\n\u001b[0;32m----> 3\u001b[0;31m \u001b[0ma\u001b[0m\u001b[0;34m+\u001b[0m\u001b[0;34m\"hola\"\u001b[0m\u001b[0;34m\u001b[0m\u001b[0m\n\u001b[0m",
      "\u001b[0;31mTypeError\u001b[0m: unsupported operand type(s) for +: 'int' and 'str'"
     ]
    }
   ],
   "source": [
    "a=5\n",
    "\n",
    "a+\"hola\""
   ]
  },
  {
   "cell_type": "code",
   "execution_count": 5,
   "metadata": {},
   "outputs": [
    {
     "data": {
      "text/plain": [
       "'5hola'"
      ]
     },
     "execution_count": 5,
     "metadata": {},
     "output_type": "execute_result"
    }
   ],
   "source": [
    "a=\"5\"+\"hola\"\n",
    "a"
   ]
  },
  {
   "cell_type": "markdown",
   "metadata": {},
   "source": [
    "###  Multiplataforma\n",
    "El intérprete de Python está disponible en multitud de plataformas (UNIX, Windows, Mac OS, etc.) por lo que si no utilizamos librerías específicas de cada plataforma nuestro programa podrá correr en todos estos sistemas sin grandes cambios"
   ]
  },
  {
   "cell_type": "markdown",
   "metadata": {},
   "source": [
    "### Orientado a objetos\n",
    "La orientación a objetos es un paradigma de programación en el que los conceptos del mundo real relevantes para nuestro problema se trasladan a clases y objetos en nuestro programa. Python también permite la programación imperativa, programación funcional y programación orientada a aspectos.\n",
    "\n",
    "## Sintaxis\n"
   ]
  },
  {
   "cell_type": "code",
   "execution_count": 6,
   "metadata": {},
   "outputs": [],
   "source": [
    " # declaracion de variables\n",
    "a=1 #entero\n",
    "b=1.0 #real tipo float\n",
    "i= 4+6j #numero imaginario, se usa j para raiz de menos 1 por convención de ingenieria electrica\n",
    "c='esto es un string'\n",
    "f=False"
   ]
  },
  {
   "cell_type": "code",
   "execution_count": 7,
   "metadata": {},
   "outputs": [
    {
     "name": "stdout",
     "output_type": "stream",
     "text": [
      "1 <type 'int'>\n",
      "real  1.0  tipo  <type 'float'>\n",
      "<type 'complex'>\n",
      "esto es un string\n",
      "\n",
      "impresion  sin  salto de linea\n"
     ]
    }
   ],
   "source": [
    "#impresion en consola\n",
    "\n",
    "print a,type(a)\n",
    "print \"real \",b,\" tipo \",type(b)\n",
    "print type(i)\n",
    "print (\"%s\"%(c))\n",
    "\n",
    "print #linea en blanco\n",
    "print \"impresion\",\n",
    "print \" sin \",\n",
    "print \"salto de linea\"\n"
   ]
  },
  {
   "cell_type": "code",
   "execution_count": 5,
   "metadata": {},
   "outputs": [
    {
     "name": "stdout",
     "output_type": "stream",
     "text": [
      "digite un numero: 3.5\n",
      "a:  3.5 tipo:  <type 'float'>\n",
      "\n",
      "digite un numero: 4.6\n",
      "b:  4.6 tipo:  <type 'str'>\n"
     ]
    }
   ],
   "source": [
    "#captura simple de datos\n",
    "\n",
    "a=input(\"digite un numero: \")\n",
    "print \"a: \",a,\"tipo: \",type(a)\n",
    "print \"\"\n",
    "b=raw_input(\"digite un numero: \")\n",
    "print \"b: \",b,\"tipo: \",type(b)"
   ]
  },
  {
   "cell_type": "markdown",
   "metadata": {},
   "source": [
    "### Operadores numéricos\n",
    "\n",
    "| operador | Descripción   | Ejemplo |\n",
    "|------|------|------|\n",
    "|+ |Suma |r = 3 + 2 |\n",
    "|- |Resta |r = 4 - 7 |\n",
    "|- |Negación |r = -7 |\n",
    "|* |Multiplicación |r = 2 * 6 |\n",
    "|** |Exponente |r = 2 ** 6 |\n",
    "|/ |División| r = 3.5 / 2 |\n",
    "|// |División entera| r = 3.5 // 2 |\n",
    "|% |Módulo |r = 7 % 2 |\n",
    "|&| and |r = 3 & 2 |\n",
    "|$|$| or| r = 3 $|$ 2|\n",
    "|^ |xor| r = 3 ^ 2 |\n",
    "|~ |not |r = ~3 |\n",
    "|<<| Desplazamiento izq. |r = 3 << 1 |\n",
    "|>> |Desplazamiento der.| r = 3 >> 1 |"
   ]
  },
  {
   "cell_type": "code",
   "execution_count": 9,
   "metadata": {},
   "outputs": [
    {
     "name": "stdout",
     "output_type": "stream",
     "text": [
      "3+2 =  5\n",
      "4-7 =  -3\n",
      "-7 =  -7\n",
      "2*6 =  12\n",
      "2**6 =  64\n",
      "3.5/2 =  1.75\n",
      "3.5//2 =  1.0\n",
      "7%2 =  1\n",
      "3&2 =  2\n",
      "3|2 =  3\n",
      "3^2 =  1\n",
      "~3 =  -4\n",
      "3<<1 =  6\n",
      "3>>1 =  1\n"
     ]
    }
   ],
   "source": [
    "print \"3+2 = \",3+2\n",
    "print \"4-7 = \",4-7\n",
    "print \"-7 = \",-7\n",
    "print \"2*6 = \",2*6\n",
    "print \"2**6 = \",2**6\n",
    "print \"3.5/2 = \",3.5/2\n",
    "print \"3.5//2 = \",3.5//2\n",
    "print \"7%2 = \",7%2\n",
    "print \"3&2 = \",3&2\n",
    "print \"3|2 = \",3|2\n",
    "print \"3^2 = \",3^2\n",
    "print \"~3 = \",~3\n",
    "print \"3<<1 = \",3<<1\n",
    "print \"3>>1 = \",3>>1"
   ]
  },
  {
   "cell_type": "markdown",
   "metadata": {},
   "source": [
    "#### Ejemplo:\n",
    "calcule la fuerza gravitacional entre 2 cuerpos:"
   ]
  },
  {
   "cell_type": "code",
   "execution_count": 10,
   "metadata": {},
   "outputs": [
    {
     "name": "stdout",
     "output_type": "stream",
     "text": [
      "ingrese la masa 1 en Kg: 500\n",
      "ingrese la masa 2 en Kg: 650\n",
      "por ultimo ingresela distancia entre ambos cuerpos en metros: 50\n",
      "la fuerza de atraccion entre ambos cuerspos se de: 8.676200e-09\n"
     ]
    }
   ],
   "source": [
    "m1=input(\"ingrese la masa 1 en Kg: \")\n",
    "m2=input(\"ingrese la masa 2 en Kg: \")\n",
    "r=input(\"por ultimo ingresela distancia entre ambos cuerpos en metros: \")\n",
    "G=6.674E-11\n",
    "grav=(G*((m1*m2)/r**2))\n",
    "print\"la fuerza de atraccion entre ambos cuerspos se de: %e\"%(grav)"
   ]
  },
  {
   "cell_type": "markdown",
   "metadata": {},
   "source": [
    "### Operadores Lógicos (Booleanos)\n",
    "\n",
    "| operador | Descripción   | Ejemplo |\n",
    "|------|------|------|\n",
    "|and |a y b | a and b |\n",
    "|or | a o b |a or b |\n",
    "|not | negación de a | not a |\n",
    "|==|a = b|5==3|\n",
    "|!=|  a diferente de b|  5 != 3 |\n",
    "|< | a menor que b|  5 < 3 |\n",
    "|> | a mayor que b|  5 > 3 |\n",
    "\n",
    "valores logicos: `True` `False`"
   ]
  },
  {
   "cell_type": "code",
   "execution_count": 11,
   "metadata": {},
   "outputs": [
    {
     "name": "stdout",
     "output_type": "stream",
     "text": [
      "a y b:  False\n",
      "a o b:  True\n",
      "negacion de b:  True\n",
      "5=3:  False\n",
      "5!=3:  True\n",
      "5<3:  False\n",
      "5>3:  True\n"
     ]
    }
   ],
   "source": [
    "a=True\n",
    "b=False\n",
    "\n",
    "print \"a y b: \",a and b\n",
    "print \"a o b: \",a or b\n",
    "print \"negacion de b: \",not b\n",
    "print \"5=3: \",5==3\n",
    "print \"5!=3: \",5!=3\n",
    "print \"5<3: \",5<3\n",
    "print \"5>3: \",5>3"
   ]
  },
  {
   "cell_type": "markdown",
   "metadata": {},
   "source": [
    "### Colecciónes\n",
    "\n",
    "\n",
    "### Tuplas\n",
    "\n",
    "``` python\n",
    "\n",
    "tup= (1,2,3)\n",
    "\n",
    "```\n",
    "\n",
    "### listas\n",
    "\n",
    "``` python\n",
    "\n",
    "lista= [1,2,3]\n",
    "\n",
    "```\n",
    "\n",
    "### diccionarios\n",
    "\n",
    "\n",
    "``` python\n",
    "\n",
    "dic={'uno': 1, 'dos': 2, 'tres':3, 'cuatro':4 }\n",
    "\n",
    "\n",
    "```"
   ]
  },
  {
   "cell_type": "code",
   "execution_count": 12,
   "metadata": {},
   "outputs": [
    {
     "data": {
      "text/plain": [
       "6"
      ]
     },
     "execution_count": 12,
     "metadata": {},
     "output_type": "execute_result"
    }
   ],
   "source": [
    "################\n",
    "### tuplas\n",
    "################\n",
    "\n",
    "tup=(1,2,3,5,6,7,4,3)\n",
    "tup[4]\n",
    "\n"
   ]
  },
  {
   "cell_type": "code",
   "execution_count": 13,
   "metadata": {},
   "outputs": [
    {
     "data": {
      "text/plain": [
       "(1, 2, 3, 5, 6, 7, 4, 3, 2)"
      ]
     },
     "execution_count": 13,
     "metadata": {},
     "output_type": "execute_result"
    }
   ],
   "source": [
    "tup+=(2,)\n",
    "tup"
   ]
  },
  {
   "cell_type": "code",
   "execution_count": 14,
   "metadata": {},
   "outputs": [
    {
     "ename": "TypeError",
     "evalue": "'tuple' object does not support item assignment",
     "output_type": "error",
     "traceback": [
      "\u001b[0;31m\u001b[0m",
      "\u001b[0;31mTypeError\u001b[0mTraceback (most recent call last)",
      "\u001b[0;32m<ipython-input-14-d482086d07b7>\u001b[0m in \u001b[0;36m<module>\u001b[0;34m()\u001b[0m\n\u001b[0;32m----> 1\u001b[0;31m \u001b[0mtup\u001b[0m\u001b[0;34m[\u001b[0m\u001b[0;36m4\u001b[0m\u001b[0;34m]\u001b[0m\u001b[0;34m=\u001b[0m\u001b[0;36m5\u001b[0m\u001b[0;34m\u001b[0m\u001b[0m\n\u001b[0m",
      "\u001b[0;31mTypeError\u001b[0m: 'tuple' object does not support item assignment"
     ]
    }
   ],
   "source": [
    "tup[4]=5\n"
   ]
  },
  {
   "cell_type": "code",
   "execution_count": 15,
   "metadata": {},
   "outputs": [
    {
     "data": {
      "text/plain": [
       "2"
      ]
     },
     "execution_count": 15,
     "metadata": {},
     "output_type": "execute_result"
    }
   ],
   "source": [
    "###################\n",
    "## listas\n",
    "###################\n",
    "\n",
    "fruits = ['orange', 'apple', 'pear', 'banana', 'kiwi', 'apple', 'banana']\n",
    "fruits.count('apple')\n"
   ]
  },
  {
   "cell_type": "code",
   "execution_count": 16,
   "metadata": {},
   "outputs": [
    {
     "data": {
      "text/plain": [
       "7"
      ]
     },
     "execution_count": 16,
     "metadata": {},
     "output_type": "execute_result"
    }
   ],
   "source": [
    "len(fruits)"
   ]
  },
  {
   "cell_type": "code",
   "execution_count": 17,
   "metadata": {},
   "outputs": [
    {
     "data": {
      "text/plain": [
       "3"
      ]
     },
     "execution_count": 17,
     "metadata": {},
     "output_type": "execute_result"
    }
   ],
   "source": [
    "fruits.index('banana')"
   ]
  },
  {
   "cell_type": "code",
   "execution_count": 18,
   "metadata": {},
   "outputs": [
    {
     "data": {
      "text/plain": [
       "['banana', 'apple', 'kiwi', 'banana', 'pear', 'apple', 'orange']"
      ]
     },
     "execution_count": 18,
     "metadata": {},
     "output_type": "execute_result"
    }
   ],
   "source": [
    "fruits.reverse()\n",
    "fruits"
   ]
  },
  {
   "cell_type": "code",
   "execution_count": 19,
   "metadata": {},
   "outputs": [
    {
     "data": {
      "text/plain": [
       "['apple', 'apple', 'banana', 'banana', 'kiwi', 'orange', 'pear']"
      ]
     },
     "execution_count": 19,
     "metadata": {},
     "output_type": "execute_result"
    }
   ],
   "source": [
    "fruits.sort()\n",
    "fruits"
   ]
  },
  {
   "cell_type": "code",
   "execution_count": 20,
   "metadata": {},
   "outputs": [
    {
     "data": {
      "text/plain": [
       "['apple', 'apple', 'banana', 'banana', 'kiwi', 'orange', 'pear', 'berry']"
      ]
     },
     "execution_count": 20,
     "metadata": {},
     "output_type": "execute_result"
    }
   ],
   "source": [
    "fruits.append('berry')\n",
    "fruits"
   ]
  },
  {
   "cell_type": "code",
   "execution_count": 21,
   "metadata": {},
   "outputs": [
    {
     "data": {
      "text/plain": [
       "['apple', 'apple', 'banana', 'banana', 'kiwi', 'orange', 'pear', 'berry', 2]"
      ]
     },
     "execution_count": 21,
     "metadata": {},
     "output_type": "execute_result"
    }
   ],
   "source": [
    "fruits+=[2]\n",
    "fruits"
   ]
  },
  {
   "cell_type": "code",
   "execution_count": 22,
   "metadata": {},
   "outputs": [
    {
     "data": {
      "text/plain": [
       "2"
      ]
     },
     "execution_count": 22,
     "metadata": {},
     "output_type": "execute_result"
    }
   ],
   "source": [
    "fruits.pop()"
   ]
  },
  {
   "cell_type": "code",
   "execution_count": 23,
   "metadata": {},
   "outputs": [
    {
     "data": {
      "text/plain": [
       "['apple', 'apple', 'banana', 'banana', 'kiwi', 'orange', 'pear', 'berry']"
      ]
     },
     "execution_count": 23,
     "metadata": {},
     "output_type": "execute_result"
    }
   ],
   "source": [
    "fruits"
   ]
  },
  {
   "cell_type": "code",
   "execution_count": 24,
   "metadata": {},
   "outputs": [
    {
     "data": {
      "text/plain": [
       "'kiwi'"
      ]
     },
     "execution_count": 24,
     "metadata": {},
     "output_type": "execute_result"
    }
   ],
   "source": [
    "fruits[4]"
   ]
  },
  {
   "cell_type": "code",
   "execution_count": 25,
   "metadata": {},
   "outputs": [
    {
     "name": "stdout",
     "output_type": "stream",
     "text": [
      "orange\n"
     ]
    },
    {
     "data": {
      "text/plain": [
       "['apple', 'apple', 'banana', 'banana', 'kiwi', 'pear', 'berry']"
      ]
     },
     "execution_count": 25,
     "metadata": {},
     "output_type": "execute_result"
    }
   ],
   "source": [
    "print fruits[5]\n",
    "del fruits[5]\n",
    "fruits"
   ]
  },
  {
   "cell_type": "code",
   "execution_count": 1,
   "metadata": {},
   "outputs": [
    {
     "data": {
      "text/plain": [
       "[[1, 2], [3, 4]]"
      ]
     },
     "execution_count": 1,
     "metadata": {},
     "output_type": "execute_result"
    }
   ],
   "source": [
    "############# lista de listas\n",
    "\n",
    "lista=[[1,2],[3,4]]\n",
    "lista"
   ]
  },
  {
   "cell_type": "code",
   "execution_count": 4,
   "metadata": {},
   "outputs": [
    {
     "data": {
      "text/plain": [
       "1"
      ]
     },
     "execution_count": 4,
     "metadata": {},
     "output_type": "execute_result"
    }
   ],
   "source": [
    "lista[0][0]\n"
   ]
  },
  {
   "cell_type": "code",
   "execution_count": 11,
   "metadata": {},
   "outputs": [
    {
     "data": {
      "text/plain": [
       "[5, 6]"
      ]
     },
     "execution_count": 11,
     "metadata": {},
     "output_type": "execute_result"
    }
   ],
   "source": [
    "lista=[[1,2,3,4],[5,6,7,8],[9,10,11,12],[13,14,15,16]]\n",
    "\n",
    "lista[1][:2]"
   ]
  },
  {
   "cell_type": "code",
   "execution_count": 13,
   "metadata": {},
   "outputs": [
    {
     "data": {
      "text/plain": [
       "[[1, 2, 3, 4], [5, 6, 7, 8], [9, 10, 11, 12], [13, 14, 15, 16]]"
      ]
     },
     "execution_count": 13,
     "metadata": {},
     "output_type": "execute_result"
    }
   ],
   "source": [
    "lista[:][:]"
   ]
  },
  {
   "cell_type": "code",
   "execution_count": 14,
   "metadata": {},
   "outputs": [
    {
     "data": {
      "text/plain": [
       "14"
      ]
     },
     "execution_count": 14,
     "metadata": {},
     "output_type": "execute_result"
    }
   ],
   "source": [
    "lista[3][1]"
   ]
  },
  {
   "cell_type": "code",
   "execution_count": 27,
   "metadata": {},
   "outputs": [
    {
     "data": {
      "text/plain": [
       "[[1, 2, 3, 4], [5, 6, 7, 8]]"
      ]
     },
     "execution_count": 27,
     "metadata": {},
     "output_type": "execute_result"
    }
   ],
   "source": [
    "lista[:2]"
   ]
  },
  {
   "cell_type": "code",
   "execution_count": 28,
   "metadata": {},
   "outputs": [
    {
     "data": {
      "text/plain": [
       "[1, 2, 3, 4]"
      ]
     },
     "execution_count": 28,
     "metadata": {},
     "output_type": "execute_result"
    }
   ],
   "source": [
    "lista[:2][0]"
   ]
  },
  {
   "cell_type": "code",
   "execution_count": 29,
   "metadata": {},
   "outputs": [
    {
     "data": {
      "text/plain": [
       "3"
      ]
     },
     "execution_count": 29,
     "metadata": {},
     "output_type": "execute_result"
    }
   ],
   "source": [
    "lista[:2][0][2]"
   ]
  },
  {
   "cell_type": "code",
   "execution_count": 26,
   "metadata": {},
   "outputs": [
    {
     "data": {
      "text/plain": [
       "{'jack': 4098, 'jhon': 4821, 'mathew': 4546, 'sape': 4139}"
      ]
     },
     "execution_count": 26,
     "metadata": {},
     "output_type": "execute_result"
    }
   ],
   "source": [
    "#############################\n",
    "## Diccionarios\n",
    "#############################\n",
    "\n",
    "tel = {'jack': 4098, \n",
    "       'sape': 4139, \n",
    "       'mathew':4546,\n",
    "       'jhon':4821\n",
    "      }\n",
    "tel"
   ]
  },
  {
   "cell_type": "code",
   "execution_count": 27,
   "metadata": {},
   "outputs": [
    {
     "data": {
      "text/plain": [
       "{'guido': 4127, 'jack': 4098, 'jhon': 4821, 'mathew': 4546, 'sape': 4139}"
      ]
     },
     "execution_count": 27,
     "metadata": {},
     "output_type": "execute_result"
    }
   ],
   "source": [
    "tel['guido'] = 4127\n",
    "tel"
   ]
  },
  {
   "cell_type": "code",
   "execution_count": 28,
   "metadata": {},
   "outputs": [
    {
     "data": {
      "text/plain": [
       "4098"
      ]
     },
     "execution_count": 28,
     "metadata": {},
     "output_type": "execute_result"
    }
   ],
   "source": [
    "tel['jack']"
   ]
  },
  {
   "cell_type": "code",
   "execution_count": 29,
   "metadata": {},
   "outputs": [
    {
     "data": {
      "text/plain": [
       "{'guido': 4127, 'jack': 4098, 'jhon': 4821, 'mathew': 4546}"
      ]
     },
     "execution_count": 29,
     "metadata": {},
     "output_type": "execute_result"
    }
   ],
   "source": [
    "del tel['sape']\n",
    "tel"
   ]
  },
  {
   "cell_type": "code",
   "execution_count": 30,
   "metadata": {},
   "outputs": [
    {
     "data": {
      "text/plain": [
       "['mathew', 'guido', 'jack', 'jhon']"
      ]
     },
     "execution_count": 30,
     "metadata": {},
     "output_type": "execute_result"
    }
   ],
   "source": [
    "list(tel)"
   ]
  },
  {
   "cell_type": "code",
   "execution_count": 31,
   "metadata": {},
   "outputs": [
    {
     "data": {
      "text/plain": [
       "['guido', 'jack', 'jhon', 'mathew']"
      ]
     },
     "execution_count": 31,
     "metadata": {},
     "output_type": "execute_result"
    }
   ],
   "source": [
    "sorted(tel)\n"
   ]
  },
  {
   "cell_type": "code",
   "execution_count": 32,
   "metadata": {},
   "outputs": [
    {
     "data": {
      "text/plain": [
       "[('mathew', 4546), ('guido', 4127), ('jack', 4098), ('jhon', 4821)]"
      ]
     },
     "execution_count": 32,
     "metadata": {},
     "output_type": "execute_result"
    }
   ],
   "source": [
    "tel.items()"
   ]
  },
  {
   "cell_type": "code",
   "execution_count": 33,
   "metadata": {},
   "outputs": [
    {
     "data": {
      "text/plain": [
       "[4546, 4127, 4098, 4821]"
      ]
     },
     "execution_count": 33,
     "metadata": {},
     "output_type": "execute_result"
    }
   ],
   "source": [
    "tel.values()\n"
   ]
  },
  {
   "cell_type": "code",
   "execution_count": 34,
   "metadata": {},
   "outputs": [
    {
     "data": {
      "text/plain": [
       "4"
      ]
     },
     "execution_count": 34,
     "metadata": {},
     "output_type": "execute_result"
    }
   ],
   "source": [
    "len(tel)"
   ]
  },
  {
   "cell_type": "markdown",
   "metadata": {},
   "source": [
    "### Esctructuras de control de flujo\n",
    "\n",
    "#### if ... else\n",
    "- Estructura: \n",
    "\n",
    "``` python\n",
    "\n",
    "if (condicion):\n",
    "    \n",
    "    intrucción\n",
    "\n",
    "else:\n",
    "\n",
    "    instrucción\n",
    "\n",
    "```\n",
    "\n",
    "se debe dar una condición lógica a partir de operaciónes Booleanas o metodos que retornen  `True` o `False`\n",
    "\n",
    "#### Ejemplo:\n",
    "\n",
    "determinar si un número ingresado es par o impar:"
   ]
  },
  {
   "cell_type": "code",
   "execution_count": 35,
   "metadata": {},
   "outputs": [
    {
     "name": "stdout",
     "output_type": "stream",
     "text": [
      "ingrese un numero:6556\n",
      "el numero es par\n"
     ]
    }
   ],
   "source": [
    "num=input(\"ingrese un numero:\")\n",
    "cond=num%2\n",
    "if (cond==0):\n",
    "    print \"el numero es par\"\n",
    "else:\n",
    "    print \"el numero es impar \""
   ]
  },
  {
   "cell_type": "markdown",
   "metadata": {},
   "source": [
    "###  If ...  elif ... else\n",
    "\n",
    "\n",
    "``` python\n",
    "\n",
    "if (condicion1):\n",
    "    \n",
    "    intrucción1\n",
    "\n",
    "elif (condicion2):\n",
    "\n",
    "    intrucción2\n",
    "    \n",
    "else\n",
    "\n",
    "    instrucción\n",
    "\n",
    "```\n",
    "\n",
    "Estructura apropiada cuando se tienen más de un casos a evaluar y dás como resultado instrucciones diferentes\n",
    "\n",
    "#### Ejemplo:\n",
    "\n",
    "Determine si un número dado es positivo, negativo o cero\n",
    "\n"
   ]
  },
  {
   "cell_type": "code",
   "execution_count": 36,
   "metadata": {},
   "outputs": [
    {
     "name": "stdout",
     "output_type": "stream",
     "text": [
      "digite un numero: -65\n",
      "el número es negativo\n"
     ]
    }
   ],
   "source": [
    "num=input(\"digite un numero: \")\n",
    "\n",
    "if num > 0:\n",
    "    print(\"el número es positivo\")\n",
    "elif num == 0:\n",
    "    print(\"el número es cero\")\n",
    "else:\n",
    "    print(\"el número es negativo\")"
   ]
  },
  {
   "cell_type": "markdown",
   "metadata": {},
   "source": [
    "### If Anidados\n",
    "\n",
    "es posible añadir estructuras if dentro de otros if\n",
    "\n",
    "``` python\n",
    "\n",
    "if (condicion1):\n",
    "    \n",
    "    intrucción1\n",
    "    if (condición2):\n",
    "        instrucción2\n",
    "    else:\n",
    "        instrucción3\n",
    "\n",
    "elif (condicion2):\n",
    "\n",
    "    intrucción2\n",
    "    \n",
    "else\n",
    "\n",
    "    instrucción\n",
    "\n",
    "```\n",
    "\n",
    "#### Ejemplo:\n",
    "\n",
    "suponga que en un estadio puede obtener entradas para un partido si la persona es mayor a 11 años; si su edad está entre 11 y 20 o es mayor a 60 tiene un descuento en el precio de la entrada."
   ]
  },
  {
   "cell_type": "code",
   "execution_count": 37,
   "metadata": {},
   "outputs": [
    {
     "name": "stdout",
     "output_type": "stream",
     "text": [
      "Usted es apto para acceder al partido.\n",
      "el percio de la boleta es: $20\n"
     ]
    }
   ],
   "source": [
    "age = 38\n",
    "if (age >= 11):\n",
    "    print \"Usted es apto para acceder al partido.\"\n",
    "    if (age <= 20 or age >= 60):\n",
    "        print(\"el percio de la boleta es: $12\")\n",
    "    else:\n",
    "        print(\"el percio de la boleta es: $20\")\n",
    "else:\n",
    "    print (\"Usted no es apto para acceder al partido.\")\n"
   ]
  },
  {
   "cell_type": "markdown",
   "metadata": {},
   "source": [
    "### Condicional en una linea: A if C else B\n",
    "\n",
    "```python\n",
    "\n",
    "A if C else B\n",
    "\n",
    "#ejemplo:\n",
    "\n",
    "var = “par” if (num % 2 == 0) else “impar”\n",
    "```\n",
    "\n",
    "estructura: ```<caso_verdadero> if <condicion> else <caso_falso> ```\n",
    "\n"
   ]
  },
  {
   "cell_type": "code",
   "execution_count": 38,
   "metadata": {},
   "outputs": [
    {
     "name": "stdout",
     "output_type": "stream",
     "text": [
      "digite un numero natural: 845\n",
      "impar\n"
     ]
    }
   ],
   "source": [
    "num=input(\"digite un numero natural: \")\n",
    "var = 'par' if (num % 2 == 0) else 'impar'\n",
    "\n",
    "print var"
   ]
  },
  {
   "cell_type": "markdown",
   "metadata": {},
   "source": [
    "### Estructuras de control repetitivas\n",
    "\n",
    "\n",
    "\n",
    "### ciclo while\n",
    "\n",
    "```python\n",
    "\n",
    "while (condición):\n",
    "    instrucción1\n",
    "    instrucción2\n",
    "\n",
    "#finwhile\n",
    "\n",
    "```\n",
    "\n",
    "#### Ejemplo \n",
    "\n",
    "aproxime pi usando la sumatoria de Gregory: $$\\pi = 4\\sum_{k=1}^{N}\\frac{(-1)^{k+1}}{2k-1}$$ para un numero de iteraciones N dado por el usuario:"
   ]
  },
  {
   "cell_type": "code",
   "execution_count": 2,
   "metadata": {},
   "outputs": [
    {
     "name": "stdout",
     "output_type": "stream",
     "text": [
      "numero de repeticiones: 999999\n",
      "pi: 3.1415936536\n"
     ]
    }
   ],
   "source": [
    "N=input(\"numero de repeticiones: \")\n",
    "\n",
    "k=1.  #contador\n",
    "pi=0. \n",
    "\n",
    "while (k<=N):\n",
    "    pi+=(((-1)**(k+1))/(2*k-1))\n",
    "    k+=1\n",
    "pi*=4\n",
    "\n",
    "print \"pi: %.10f\"%(pi)"
   ]
  },
  {
   "cell_type": "markdown",
   "metadata": {},
   "source": [
    "### Ciclos for\n",
    "\n",
    "C/C++/Java:\n",
    "\n",
    "```C\n",
    "for(int i=0; i<=n; i++){\n",
    "\n",
    "}\n",
    "\n",
    "```\n",
    "```java\n",
    "for (String item : someList) {\n",
    "    System.out.println(item);\n",
    "}\n",
    "```\n",
    "\n",
    "\n",
    "python:\n",
    "```python\n",
    "\n",
    "for <iterador> in <colección>:\n",
    "    instrucción1\n",
    "    instrucción2\n",
    "#finFor\n",
    "\n",
    "\n",
    "```\n",
    "\n",
    "#### Ejemplo\n",
    "\n",
    "determine si un numero dado es primo:"
   ]
  },
  {
   "cell_type": "code",
   "execution_count": 3,
   "metadata": {},
   "outputs": [
    {
     "name": "stdout",
     "output_type": "stream",
     "text": [
      "digite un numero natural: 127893\n",
      "127893  no es primo\n"
     ]
    }
   ],
   "source": [
    "n=input(\"digite un numero natural: \")\n",
    "\n",
    "sw=0\n",
    "\n",
    "if(n<=1):\n",
    "    print n,\" no es primo\"\n",
    "else:\n",
    "    for i in xrange(2,n):\n",
    "        \n",
    "        if (n%i==0):\n",
    "            \n",
    "            sw=1\n",
    "            break\n",
    "    \n",
    "    if sw==1:\n",
    "        print n,\" no es primo\"\n",
    "    else:\n",
    "        print n,\" es primo\""
   ]
  },
  {
   "cell_type": "code",
   "execution_count": 44,
   "metadata": {},
   "outputs": [
    {
     "name": "stdout",
     "output_type": "stream",
     "text": [
      "esto\n",
      "es\n",
      "una\n",
      "lista\n",
      "de\n",
      "palabras\n"
     ]
    }
   ],
   "source": [
    "l=[\"esto\",\"es\",\"una\",\"lista\",\"de\",\"palabras\"]\n",
    "\n",
    "for i in l:\n",
    "    print i"
   ]
  },
  {
   "cell_type": "code",
   "execution_count": 45,
   "metadata": {},
   "outputs": [
    {
     "name": "stdout",
     "output_type": "stream",
     "text": [
      "[1, 2, 3, 4, 5, 6, 7, 8, 9, 10, 11, 12, 13, 14, 15, 16, 17, 18, 19, 20, 21, 22, 23, 24, 25, 26, 27, 28, 29, 30, 31, 32, 33, 34, 35, 36, 37, 38, 39, 40, 41, 42, 43, 44, 45, 46, 47, 48, 49, 50, 51, 52, 53, 54, 55, 56, 57, 58, 59, 60, 61, 62, 63, 64, 65, 66, 67, 68, 69, 70, 71, 72, 73, 74, 75, 76, 77, 78, 79, 80, 81, 82, 83, 84, 85, 86, 87, 88, 89, 90, 91, 92, 93, 94, 95, 96, 97, 98, 99]\n"
     ]
    }
   ],
   "source": [
    "print range(1,100)"
   ]
  },
  {
   "cell_type": "code",
   "execution_count": 46,
   "metadata": {},
   "outputs": [
    {
     "name": "stdout",
     "output_type": "stream",
     "text": [
      "xrange(1, 100)\n"
     ]
    }
   ],
   "source": [
    "print xrange(1,100)"
   ]
  },
  {
   "cell_type": "code",
   "execution_count": 47,
   "metadata": {
    "scrolled": true
   },
   "outputs": [
    {
     "name": "stdout",
     "output_type": "stream",
     "text": [
      "1 2 3 4 5 6 7 8 9 10 11 12 13 14 15 16 17 18 19 20 21 22 23 24 25 26 27 28 29 30 31 32 33 34 35 36 37 38 39 40 41 42 43 44 45 46 47 48 49 50 51 52 53 54 55 56 57 58 59 60 61 62 63 64 65 66 67 68 69 70 71 72 73 74 75 76 77 78 79 80 81 82 83 84 85 86 87 88 89 90 91 92 93 94 95 96 97 98 99\n"
     ]
    }
   ],
   "source": [
    "for i in xrange(1,100):\n",
    "    print i,"
   ]
  },
  {
   "cell_type": "markdown",
   "metadata": {},
   "source": [
    "## Sentencia try/except:\n",
    "\n",
    "permite controlar errores esperados\n",
    "\n",
    "```python\n",
    "\n",
    "try: \n",
    "    #instrucciones a probar\n",
    "    \n",
    "except <error>:\n",
    "    # que hacer en caso de que ocurra el error especificado\n",
    "\n",
    "except:\n",
    "    #excepción generica, que hacen en caso de cualquier error \n",
    "\n",
    "```"
   ]
  },
  {
   "cell_type": "code",
   "execution_count": 7,
   "metadata": {},
   "outputs": [
    {
     "name": "stdout",
     "output_type": "stream",
     "text": [
      "Ingrese un numero: r\n",
      "Oops! ese no era un valor valido, intente de nuevo...\n",
      "Ingrese un numero: s\n",
      "Oops! ese no era un valor valido, intente de nuevo...\n",
      "Ingrese un numero: 5\n"
     ]
    }
   ],
   "source": [
    "while True:\n",
    "    try:\n",
    "        x = int(raw_input(\"Ingrese un numero: \"))\n",
    "        break\n",
    "    except ValueError:\n",
    "        print \"Oops! ese no era un valor valido, intente de nuevo...\""
   ]
  },
  {
   "cell_type": "code",
   "execution_count": 8,
   "metadata": {},
   "outputs": [
    {
     "name": "stdout",
     "output_type": "stream",
     "text": [
      "Ingrese un numero: r\n"
     ]
    },
    {
     "ename": "ValueError",
     "evalue": "invalid literal for int() with base 10: 'r'",
     "output_type": "error",
     "traceback": [
      "\u001b[0;31m\u001b[0m",
      "\u001b[0;31mValueError\u001b[0mTraceback (most recent call last)",
      "\u001b[0;32m<ipython-input-8-ec476261feaa>\u001b[0m in \u001b[0;36m<module>\u001b[0;34m()\u001b[0m\n\u001b[0;32m----> 1\u001b[0;31m \u001b[0mx\u001b[0m \u001b[0;34m=\u001b[0m \u001b[0mint\u001b[0m\u001b[0;34m(\u001b[0m\u001b[0mraw_input\u001b[0m\u001b[0;34m(\u001b[0m\u001b[0;34m\"Ingrese un numero: \"\u001b[0m\u001b[0;34m)\u001b[0m\u001b[0;34m)\u001b[0m\u001b[0;34m\u001b[0m\u001b[0m\n\u001b[0m\u001b[1;32m      2\u001b[0m \u001b[0mx\u001b[0m\u001b[0;34m\u001b[0m\u001b[0m\n",
      "\u001b[0;31mValueError\u001b[0m: invalid literal for int() with base 10: 'r'"
     ]
    }
   ],
   "source": [
    "x = int(raw_input(\"Ingrese un numero: \"))\n",
    "x"
   ]
  },
  {
   "cell_type": "code",
   "execution_count": 9,
   "metadata": {},
   "outputs": [
    {
     "name": "stdout",
     "output_type": "stream",
     "text": [
      "Ingrese un numero: r\n",
      "Oops! ese no era un valor valido, intente de nuevo...\n",
      "Ingrese un numero: 5\n"
     ]
    }
   ],
   "source": [
    "while True:\n",
    "    try:\n",
    "        x = int(raw_input(\"Ingrese un numero: \"))\n",
    "        break\n",
    "    except:\n",
    "        print \"Oops! ese no era un valor valido, intente de nuevo...\""
   ]
  },
  {
   "cell_type": "markdown",
   "metadata": {},
   "source": [
    "#### lista de excepciones disponibles:\n",
    "\n",
    "https://docs.python.org/2/library/exceptions.html#bltin-exceptions "
   ]
  },
  {
   "cell_type": "markdown",
   "metadata": {},
   "source": [
    "### Rutinas o funciones\n",
    "\n",
    "``` python\n",
    "\n",
    "def <nombre>(<variables de entrada>):\n",
    "             \n",
    "    intrucciones\n",
    "           \n",
    "    return <salida>\n",
    " \n",
    "#fin_rutina\n",
    "```            \n",
    "invocación: \n",
    "```python            \n",
    "n= funcion(x)\n",
    "```\n",
    "\n",
    "#### ejemplo\n",
    "\n",
    "realice un metodo para calcular el factorial de un numero"
   ]
  },
  {
   "cell_type": "code",
   "execution_count": 1,
   "metadata": {},
   "outputs": [
    {
     "name": "stdout",
     "output_type": "stream",
     "text": [
      "digite un numero: 10\n"
     ]
    },
    {
     "data": {
      "text/plain": [
       "3628800"
      ]
     },
     "execution_count": 1,
     "metadata": {},
     "output_type": "execute_result"
    }
   ],
   "source": [
    "def factorial(x):\n",
    "    f=1\n",
    "    for i in xrange(2,x+1):\n",
    "        f*=i\n",
    "    return f\n",
    "\n",
    "x=input(\"digite un numero: \")\n",
    "\n",
    "factorial(x)"
   ]
  },
  {
   "cell_type": "code",
   "execution_count": 2,
   "metadata": {},
   "outputs": [
    {
     "data": {
      "text/plain": [
       "3628800"
      ]
     },
     "execution_count": 2,
     "metadata": {},
     "output_type": "execute_result"
    }
   ],
   "source": [
    "factorial(x=10)"
   ]
  },
  {
   "cell_type": "code",
   "execution_count": 3,
   "metadata": {},
   "outputs": [
    {
     "ename": "TypeError",
     "evalue": "factorial() got an unexpected keyword argument 'b'",
     "output_type": "error",
     "traceback": [
      "\u001b[0;31m\u001b[0m",
      "\u001b[0;31mTypeError\u001b[0mTraceback (most recent call last)",
      "\u001b[0;32m<ipython-input-3-89dc68a4282b>\u001b[0m in \u001b[0;36m<module>\u001b[0;34m()\u001b[0m\n\u001b[0;32m----> 1\u001b[0;31m \u001b[0mfactorial\u001b[0m\u001b[0;34m(\u001b[0m\u001b[0mb\u001b[0m\u001b[0;34m=\u001b[0m\u001b[0;36m10\u001b[0m\u001b[0;34m)\u001b[0m\u001b[0;34m\u001b[0m\u001b[0m\n\u001b[0m",
      "\u001b[0;31mTypeError\u001b[0m: factorial() got an unexpected keyword argument 'b'"
     ]
    }
   ],
   "source": [
    "factorial(b=10)"
   ]
  },
  {
   "cell_type": "code",
   "execution_count": 4,
   "metadata": {},
   "outputs": [
    {
     "data": {
      "text/plain": [
       "3628800"
      ]
     },
     "execution_count": 4,
     "metadata": {},
     "output_type": "execute_result"
    }
   ],
   "source": [
    "factorial(10)"
   ]
  },
  {
   "cell_type": "code",
   "execution_count": 13,
   "metadata": {},
   "outputs": [
    {
     "ename": "ValueError",
     "evalue": "5 is not in list",
     "output_type": "error",
     "traceback": [
      "\u001b[0;31m\u001b[0m",
      "\u001b[0;31mValueError\u001b[0mTraceback (most recent call last)",
      "\u001b[0;32m<ipython-input-13-de05a210901e>\u001b[0m in \u001b[0;36m<module>\u001b[0;34m()\u001b[0m\n\u001b[1;32m      2\u001b[0m     \u001b[0ml\u001b[0m\u001b[0;34m.\u001b[0m\u001b[0mindex\u001b[0m\u001b[0;34m(\u001b[0m\u001b[0ma\u001b[0m\u001b[0;34m)\u001b[0m\u001b[0;34m\u001b[0m\u001b[0m\n\u001b[1;32m      3\u001b[0m \u001b[0;34m\u001b[0m\u001b[0m\n\u001b[0;32m----> 4\u001b[0;31m \u001b[0mrutina\u001b[0m\u001b[0;34m(\u001b[0m\u001b[0;36m5\u001b[0m\u001b[0;34m,\u001b[0m\u001b[0;34m[\u001b[0m\u001b[0;36m1\u001b[0m\u001b[0;34m,\u001b[0m\u001b[0;36m2\u001b[0m\u001b[0;34m,\u001b[0m\u001b[0;36m3\u001b[0m\u001b[0;34m,\u001b[0m\u001b[0;36m4\u001b[0m\u001b[0;34m]\u001b[0m\u001b[0;34m)\u001b[0m\u001b[0;34m\u001b[0m\u001b[0m\n\u001b[0m",
      "\u001b[0;32m<ipython-input-13-de05a210901e>\u001b[0m in \u001b[0;36mrutina\u001b[0;34m(a, l)\u001b[0m\n\u001b[1;32m      1\u001b[0m \u001b[0;32mdef\u001b[0m \u001b[0mrutina\u001b[0m\u001b[0;34m(\u001b[0m\u001b[0ma\u001b[0m\u001b[0;34m,\u001b[0m\u001b[0ml\u001b[0m\u001b[0;34m)\u001b[0m\u001b[0;34m:\u001b[0m\u001b[0;34m\u001b[0m\u001b[0m\n\u001b[0;32m----> 2\u001b[0;31m     \u001b[0ml\u001b[0m\u001b[0;34m.\u001b[0m\u001b[0mindex\u001b[0m\u001b[0;34m(\u001b[0m\u001b[0ma\u001b[0m\u001b[0;34m)\u001b[0m\u001b[0;34m\u001b[0m\u001b[0m\n\u001b[0m\u001b[1;32m      3\u001b[0m \u001b[0;34m\u001b[0m\u001b[0m\n\u001b[1;32m      4\u001b[0m \u001b[0mrutina\u001b[0m\u001b[0;34m(\u001b[0m\u001b[0;36m5\u001b[0m\u001b[0;34m,\u001b[0m\u001b[0;34m[\u001b[0m\u001b[0;36m1\u001b[0m\u001b[0;34m,\u001b[0m\u001b[0;36m2\u001b[0m\u001b[0;34m,\u001b[0m\u001b[0;36m3\u001b[0m\u001b[0;34m,\u001b[0m\u001b[0;36m4\u001b[0m\u001b[0;34m]\u001b[0m\u001b[0;34m)\u001b[0m\u001b[0;34m\u001b[0m\u001b[0m\n",
      "\u001b[0;31mValueError\u001b[0m: 5 is not in list"
     ]
    }
   ],
   "source": [
    "def rutina(a,l):\n",
    "    l.index(a)\n",
    "\n",
    "rutina(5,[1,2,3,4])"
   ]
  },
  {
   "cell_type": "code",
   "execution_count": 18,
   "metadata": {},
   "outputs": [
    {
     "ename": "SyntaxError",
     "evalue": "non-keyword arg after keyword arg (<ipython-input-18-ba341016b0ec>, line 10)",
     "output_type": "error",
     "traceback": [
      "\u001b[0;36m  File \u001b[0;32m\"<ipython-input-18-ba341016b0ec>\"\u001b[0;36m, line \u001b[0;32m10\u001b[0m\n\u001b[0;31m    a,b,c=rutina(b=8,a=3,c=2,[1,2,3,4])\u001b[0m\n\u001b[0;31mSyntaxError\u001b[0m\u001b[0;31m:\u001b[0m non-keyword arg after keyword arg\n"
     ]
    }
   ],
   "source": [
    "def rutina(a,b,c,l):\n",
    "    try:\n",
    "        a_i = l.index(a)\n",
    "        b_i = l.index(b)\n",
    "        c_i = l.index(c)\n",
    "        return a_i,b_i,c_i\n",
    "    except ValueError:\n",
    "        print \"alguno de los elementos no pertenece al arreglo\"\n",
    "\n",
    "a,b,c=rutina(b=8,a=3,c=2,[1,2,3,4])"
   ]
  },
  {
   "cell_type": "code",
   "execution_count": 25,
   "metadata": {},
   "outputs": [
    {
     "name": "stdout",
     "output_type": "stream",
     "text": [
      "alguno de los elementos no pertenece al arreglo\n"
     ]
    },
    {
     "ename": "TypeError",
     "evalue": "'NoneType' object is not iterable",
     "output_type": "error",
     "traceback": [
      "\u001b[0;31m\u001b[0m",
      "\u001b[0;31mTypeError\u001b[0mTraceback (most recent call last)",
      "\u001b[0;32m<ipython-input-25-c689d2f10c78>\u001b[0m in \u001b[0;36m<module>\u001b[0;34m()\u001b[0m\n\u001b[1;32m      9\u001b[0m \u001b[0;34m\u001b[0m\u001b[0m\n\u001b[1;32m     10\u001b[0m \u001b[0;34m\u001b[0m\u001b[0m\n\u001b[0;32m---> 11\u001b[0;31m \u001b[0mai\u001b[0m \u001b[0;34m,\u001b[0m \u001b[0mbi\u001b[0m\u001b[0;34m,\u001b[0m \u001b[0mci\u001b[0m \u001b[0;34m=\u001b[0m\u001b[0mrutina\u001b[0m\u001b[0;34m(\u001b[0m\u001b[0mb\u001b[0m\u001b[0;34m=\u001b[0m\u001b[0;36m8\u001b[0m\u001b[0;34m,\u001b[0m\u001b[0ma\u001b[0m\u001b[0;34m=\u001b[0m\u001b[0;36m3\u001b[0m\u001b[0;34m,\u001b[0m\u001b[0mc\u001b[0m\u001b[0;34m=\u001b[0m\u001b[0;36m2\u001b[0m\u001b[0;34m,\u001b[0m\u001b[0ml\u001b[0m\u001b[0;34m=\u001b[0m\u001b[0;34m[\u001b[0m\u001b[0;36m1\u001b[0m\u001b[0;34m,\u001b[0m\u001b[0;36m2\u001b[0m\u001b[0;34m,\u001b[0m\u001b[0;36m3\u001b[0m\u001b[0;34m,\u001b[0m\u001b[0;36m4\u001b[0m\u001b[0;34m]\u001b[0m\u001b[0;34m)\u001b[0m\u001b[0;34m\u001b[0m\u001b[0m\n\u001b[0m",
      "\u001b[0;31mTypeError\u001b[0m: 'NoneType' object is not iterable"
     ]
    }
   ],
   "source": [
    "def rutina(a,b,c,l):\n",
    "    try:\n",
    "        a_i = l.index(a)\n",
    "        b_i = l.index(b)\n",
    "        c_i = l.index(c)\n",
    "        return a_i,b_i,c_i\n",
    "    except ValueError:\n",
    "        print \"alguno de los elementos no pertenece al arreglo\"\n",
    "\n",
    "\n",
    "ai , bi, ci =rutina(b=8,a=3,c=2,l=[1,2,3,4])"
   ]
  },
  {
   "cell_type": "code",
   "execution_count": 26,
   "metadata": {},
   "outputs": [
    {
     "name": "stdout",
     "output_type": "stream",
     "text": [
      "alguno de los elementos no pertenece al arreglo\n"
     ]
    }
   ],
   "source": [
    "def rutina(a,b,c,l):\n",
    "    try:\n",
    "        a_i = l.index(a)\n",
    "        b_i = l.index(b)\n",
    "        c_i = l.index(c)\n",
    "        return a_i,b_i,c_i\n",
    "    except ValueError:\n",
    "        print \"alguno de los elementos no pertenece al arreglo\"\n",
    "        return 0,0,0\n",
    "\n",
    "ai , bi, ci =rutina(b=8,a=3,c=2,l=[1,2,3,4])"
   ]
  },
  {
   "cell_type": "code",
   "execution_count": 28,
   "metadata": {},
   "outputs": [
    {
     "data": {
      "text/plain": [
       "(9, 5, 3)"
      ]
     },
     "execution_count": 28,
     "metadata": {},
     "output_type": "execute_result"
    }
   ],
   "source": [
    "rutina(c=3,a=9,l=range(0,20),b=5)"
   ]
  },
  {
   "cell_type": "code",
   "execution_count": 29,
   "metadata": {
    "scrolled": true
   },
   "outputs": [
    {
     "name": "stdout",
     "output_type": "stream",
     "text": [
      "22\n",
      "25\n",
      "15\n"
     ]
    }
   ],
   "source": [
    "a,b,c=rutina(c=30,a=44,l=range(0,100,2),b=50)\n",
    "print a\n",
    "print b\n",
    "print c"
   ]
  },
  {
   "cell_type": "markdown",
   "metadata": {},
   "source": [
    "# ¿Python 3?\n",
    "\n",
    "la mayoría de la syntaxis se conserva, en este video se listan la mayoría de los cambios que se deben tener en cuenta\n",
    "\n",
    "https://www.youtube.com/watch?v=ujXm3ndP1L4  "
   ]
  }
 ],
 "metadata": {
  "kernelspec": {
   "display_name": "Python 2",
   "language": "python",
   "name": "python2"
  },
  "language_info": {
   "codemirror_mode": {
    "name": "ipython",
    "version": 2
   },
   "file_extension": ".py",
   "mimetype": "text/x-python",
   "name": "python",
   "nbconvert_exporter": "python",
   "pygments_lexer": "ipython2",
   "version": "2.7.14"
  }
 },
 "nbformat": 4,
 "nbformat_minor": 2
}
